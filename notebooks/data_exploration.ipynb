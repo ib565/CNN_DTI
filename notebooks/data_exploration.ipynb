{
 "cells": [
  {
   "cell_type": "code",
   "execution_count": null,
   "metadata": {},
   "outputs": [],
   "source": [
    "import os\n",
    "import numpy as np\n",
    "import nibabel as nib\n",
    "from dipy.io import read_bvals_bvecs\n",
    "import matplotlib.pyplot as plt"
   ]
  },
  {
   "cell_type": "code",
   "execution_count": null,
   "metadata": {},
   "outputs": [],
   "source": [
    "data_path = r\"100307_3T_Diffusion_preproc\\100307\\T1w\"\n",
    "dwi_file = os.path.join(data_path, r\"diffusion/data.nii.gz\")\n",
    "img = nib.load(dwi_file)"
   ]
  },
  {
   "cell_type": "code",
   "execution_count": null,
   "metadata": {},
   "outputs": [],
   "source": [
    "data = img.get_fdata()\n",
    "print(f\"Diffusion data shape: {data.shape}\")"
   ]
  },
  {
   "cell_type": "code",
   "execution_count": null,
   "metadata": {},
   "outputs": [],
   "source": [
    "bvals_file = os.path.join(data_path, r'diffusion/bvals')\n",
    "bvecs_file = os.path.join(data_path, r'diffusion/bvecs')\n",
    "\n",
    "bvals, bvecs = read_bvals_bvecs(bvals_file, bvecs_file)\n",
    "print(f\"Number of b-values: {len(bvals)}\")\n",
    "print(f\"Unique b-values: {np.unique(bvals)}\")\n",
    "print(f\"Shape of bvecs: {bvecs.shape}\")"
   ]
  },
  {
   "cell_type": "markdown",
   "metadata": {},
   "source": [
    "View Mask"
   ]
  },
  {
   "cell_type": "code",
   "execution_count": null,
   "metadata": {},
   "outputs": [],
   "source": [
    "mask_file = os.path.join(data_path, r'diffusion/nodif_brain_mask.nii.gz')\n",
    "mask_img = nib.load(mask_file)\n",
    "mask_data = mask_img.get_fdata()\n",
    "print(f\"Mask shape: {mask_data.shape}\")\n",
    "\n",
    "plt.imshow(mask_data[:,:,mask_data.shape[2]//2], cmap='gray')\n",
    "plt.title('Middle slice of brain mask')\n",
    "plt.show()"
   ]
  },
  {
   "cell_type": "code",
   "execution_count": null,
   "metadata": {},
   "outputs": [],
   "source": [
    "grad_dev_file = os.path.join(data_path, r'diffusion/grad_dev.nii.gz')\n",
    "grad_dev_img = nib.load(grad_dev_file)\n",
    "grad_dev_data = grad_dev_img.get_fdata()\n",
    "print(f\"Gradient deviation data shape: {grad_dev_data.shape}\")\n",
    "print(f\"Grad dev components for a central voxel:\\n{grad_dev_data[72, 87, 72, :]}\")"
   ]
  },
  {
   "cell_type": "markdown",
   "metadata": {},
   "source": [
    "Compare b=0 and a weighted image. (This is just the signal strength, no DTI calculated yet.)"
   ]
  },
  {
   "cell_type": "code",
   "execution_count": null,
   "metadata": {},
   "outputs": [],
   "source": [
    "# Plot a middle slice from a b=0 volume and a diffusion-weighted volume\n",
    "fig, (ax1, ax2) = plt.subplots(1, 2, figsize=(12, 6))\n",
    "\n",
    "# Assuming the first volume is b=0 and the last is diffusion-weighted\n",
    "ax1.imshow(data[:, :, data.shape[2]//2, 0], cmap='gray')\n",
    "ax1.set_title('b=0 Image (middle slice)')\n",
    "\n",
    "ax2.imshow(data[:, :, data.shape[2]//2, -1], cmap='gray')\n",
    "ax2.set_title('Diffusion-weighted Image (middle slice)')\n",
    "\n",
    "plt.show()"
   ]
  },
  {
   "cell_type": "markdown",
   "metadata": {},
   "source": [
    "T1w image: structural info for reference\n"
   ]
  },
  {
   "cell_type": "code",
   "execution_count": null,
   "metadata": {},
   "outputs": [],
   "source": [
    "t1_img = nib.load(r'100307_3T_Diffusion_preproc\\100307\\T1w\\T1w_acpc_dc_restore_1.25.nii.gz')\n",
    "t1_data = t1_img.get_fdata()\n",
    "\n",
    "# Display a middle slice\n",
    "plt.figure(figsize=(10, 8))\n",
    "plt.imshow(t1_data[:, :, t1_data.shape[2]//2], cmap='gray')\n",
    "plt.title('T1w Image - Middle Axial Slice')\n",
    "plt.axis('off')\n",
    "plt.show()\n",
    "\n",
    "print(f\"T1w image shape: {t1_data.shape}\")\n",
    "print(f\"T1w data type: {t1_data.dtype}\")"
   ]
  }
 ],
 "metadata": {
  "kernelspec": {
   "display_name": "neuro",
   "language": "python",
   "name": "python3"
  },
  "language_info": {
   "codemirror_mode": {
    "name": "ipython",
    "version": 3
   },
   "file_extension": ".py",
   "mimetype": "text/x-python",
   "name": "python",
   "nbconvert_exporter": "python",
   "pygments_lexer": "ipython3",
   "version": "3.12.3"
  }
 },
 "nbformat": 4,
 "nbformat_minor": 2
}
