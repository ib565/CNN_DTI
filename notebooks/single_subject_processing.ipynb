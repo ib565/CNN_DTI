{
 "cells": [
  {
   "cell_type": "code",
   "execution_count": null,
   "metadata": {},
   "outputs": [],
   "source": [
    "import numpy as np\n",
    "import nibabel as nib\n",
    "from dipy.core.gradients import gradient_table\n",
    "from dipy.reconst.dti import TensorModel\n",
    "\n",
    "def normalize(x):\n",
    "    return (x - np.mean(x)) / np.std(x)"
   ]
  },
  {
   "cell_type": "markdown",
   "metadata": {},
   "source": [
    "Load data"
   ]
  },
  {
   "cell_type": "code",
   "execution_count": null,
   "metadata": {},
   "outputs": [],
   "source": [
    "def load_subject_data(data_path):\n",
    "    data = nib.load(fr'{data_path}\\Diffusion\\data.nii.gz').get_fdata()\n",
    "    bvals = np.loadtxt(fr'{data_path}\\Diffusion\\bvals')\n",
    "    bvecs = np.loadtxt(fr'{data_path}\\Diffusion\\bvecs')\n",
    "    mask = nib.load(fr'{data_path}\\Diffusion\\nodif_brain_mask.nii.gz').get_fdata()\n",
    "    T1w = nib.load(fr'{data_path}\\T1w_acpc_dc_restore_1.25.nii.gz').get_fdata()\n",
    "    return data, bvals, bvecs, mask, T1w"
   ]
  },
  {
   "cell_type": "code",
   "execution_count": null,
   "metadata": {},
   "outputs": [],
   "source": [
    "subject_ID = '100206'\n",
    "data_path = fr'..\\diffusion_data\\{subject_ID}\\T1w'\n",
    "data, bvals, bvecs, mask, T1w = load_subject_data(data_path)"
   ]
  },
  {
   "cell_type": "code",
   "execution_count": null,
   "metadata": {},
   "outputs": [],
   "source": [
    "print(f\"Data shape: {data.shape}\")\n",
    "print(f\"Number of b-values: {len(bvals)}\")\n",
    "print(f\"Mask shape: {mask.shape}\")\n",
    "print(f\"T1w shape: {T1w.shape}\")"
   ]
  },
  {
   "cell_type": "markdown",
   "metadata": {},
   "source": [
    "Prepare data"
   ]
  },
  {
   "cell_type": "code",
   "execution_count": null,
   "metadata": {},
   "outputs": [],
   "source": [
    "optimized_directions = np.array([\n",
    "    [0.416, 0, 0.910],\n",
    "    [-0.416, 0, 0.910],\n",
    "    [0.910, -0.416, 0],\n",
    "    [0.910, 0.416, 0],\n",
    "    [0, 0.910, 0.416],\n",
    "    [0, 0.910, -0.416]\n",
    "])"
   ]
  },
  {
   "cell_type": "code",
   "execution_count": null,
   "metadata": {},
   "outputs": [],
   "source": [
    "def select_and_transform_dwis(data, bvals, bvecs):\n",
    "    b0_val = np.min(bvals)\n",
    "    b0_indices = np.where(bvals == b0_val)[0]\n",
    "    b0_image = np.mean(data[:,:,:,b0_indices], axis=3)\n",
    "\n",
    "    gtab = gradient_table(bvals, bvecs)\n",
    "    highest_bval = np.max(bvals)\n",
    "    high_b_indices = np.where(bvals == highest_bval)[0]\n",
    "    \n",
    "    angles = np.abs(np.dot(bvecs.T[high_b_indices], optimized_directions.T))\n",
    "     \n",
    "\n",
    "select_and_transform_dwis(data, bvals, bvecs)"
   ]
  }
 ],
 "metadata": {
  "kernelspec": {
   "display_name": "neuro",
   "language": "python",
   "name": "python3"
  },
  "language_info": {
   "codemirror_mode": {
    "name": "ipython",
    "version": 3
   },
   "file_extension": ".py",
   "mimetype": "text/x-python",
   "name": "python",
   "nbconvert_exporter": "python",
   "pygments_lexer": "ipython3",
   "version": "3.12.3"
  }
 },
 "nbformat": 4,
 "nbformat_minor": 2
}
