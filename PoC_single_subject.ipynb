{
 "cells": [
  {
   "cell_type": "code",
   "execution_count": 1,
   "metadata": {},
   "outputs": [],
   "source": [
    "import numpy as np\n",
    "import nibabel as nib\n",
    "from dipy.core.gradients import gradient_table\n",
    "from dipy.reconst.dti import TensorModel"
   ]
  },
  {
   "cell_type": "code",
   "execution_count": 5,
   "metadata": {},
   "outputs": [],
   "source": [
    "subject_ID = '100206'\n",
    "data_path = fr'diffusion_data\\{subject_ID}\\T1w'"
   ]
  },
  {
   "cell_type": "code",
   "execution_count": 8,
   "metadata": {},
   "outputs": [],
   "source": [
    "data = nib.load(fr'{data_path}\\Diffusion\\data.nii.gz').get_fdata()\n",
    "bvals = np.loadtxt(fr'{data_path}\\Diffusion\\bvals')\n",
    "bvecs = np.loadtxt(fr'{data_path}\\Diffusion\\bvecs')\n",
    "mask = nib.load(fr'{data_path}\\Diffusion\\nodif_brain_mask.nii.gz').get_fdata()\n",
    "T1w = nib.load(fr'{data_path}\\T1w_acpc_dc_restore_1.25.nii.gz').get_fdata()"
   ]
  },
  {
   "cell_type": "code",
   "execution_count": 9,
   "metadata": {},
   "outputs": [
    {
     "name": "stdout",
     "output_type": "stream",
     "text": [
      "Data shape: (145, 174, 145, 288)\n",
      "Number of b-values: 288\n",
      "Mask shape: (145, 174, 145)\n",
      "T1w shape: (145, 174, 145)\n"
     ]
    }
   ],
   "source": [
    "print(f\"Data shape: {data.shape}\")\n",
    "print(f\"Number of b-values: {len(bvals)}\")\n",
    "print(f\"Mask shape: {mask.shape}\")\n",
    "print(f\"T1w shape: {T1w.shape}\")"
   ]
  },
  {
   "cell_type": "code",
   "execution_count": 12,
   "metadata": {},
   "outputs": [],
   "source": [
    "\n",
    "b0_index = np.argmin(bvals)\n",
    "b0_image = data[:,:,:,b0_index]"
   ]
  },
  {
   "cell_type": "code",
   "execution_count": null,
   "metadata": {},
   "outputs": [],
   "source": []
  }
 ],
 "metadata": {
  "kernelspec": {
   "display_name": "neuro",
   "language": "python",
   "name": "python3"
  },
  "language_info": {
   "codemirror_mode": {
    "name": "ipython",
    "version": 3
   },
   "file_extension": ".py",
   "mimetype": "text/x-python",
   "name": "python",
   "nbconvert_exporter": "python",
   "pygments_lexer": "ipython3",
   "version": "3.12.3"
  }
 },
 "nbformat": 4,
 "nbformat_minor": 2
}
